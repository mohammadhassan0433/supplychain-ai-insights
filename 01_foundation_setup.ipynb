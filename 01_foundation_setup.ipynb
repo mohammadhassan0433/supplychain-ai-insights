{
 "cells": [
  {
   "cell_type": "markdown",
   "id": "1c264278-5806-45c0-bc1a-2957bc18d0ce",
   "metadata": {},
   "source": [
    "# 🧠 Phase 1: Python Foundations for Supply Chain – Demo Project (Week 1)\n",
    "\n",
    "# 📘 Week 1: Foundation Setup – Python Basics for Supply Chain\n",
    "\n",
    "This notebook covers basic Python concepts contextualized for supply chain use cases: cost calculation, supplier records, data tables, and micro-notes after each block to track learning.\n",
    "\n"
   ]
  },
  {
   "cell_type": "code",
   "execution_count": 5,
   "id": "6419ff08-d196-468b-8008-01200ab7de4e",
   "metadata": {},
   "outputs": [
    {
     "name": "stdout",
     "output_type": "stream",
     "text": [
      "Total shipment value: $ 25075.0\n"
     ]
    }
   ],
   "source": [
    "# Basic variable use for supply chain example\n",
    "\n",
    "product = \"Tablet\"\n",
    "quantity = 100\n",
    "unit_price = 250.75\n",
    "total_value = quantity * unit_price\n",
    "print(\"Total shipment value: $\", total_value)\n"
   ]
  },
  {
   "cell_type": "markdown",
   "id": "d9ab0a93-bf4b-4dbd-b4e7-82d8d24e98c0",
   "metadata": {},
   "source": [
    "📌 Topic: Python Variables  \n",
    "🔍 What I Learned:  \n",
    "- Variables hold shipment data like quantity, price, etc.  \n",
    "💡 Why it Matters:  \n",
    "- Helps calculate total shipment value, cost per order, etc.\n"
   ]
  },
  {
   "cell_type": "markdown",
   "id": "806a0918-5c60-4c9e-91ab-3a3d8b04b7bd",
   "metadata": {},
   "source": [
    "## ✅ Step 1.2: Lists and Dictionaries for Supply Chain\n",
    "\n",
    "We'll use lists to manage multiple suppliers, and dictionaries to structure a shipment record.\n"
   ]
  },
  {
   "cell_type": "code",
   "execution_count": 4,
   "id": "35541d2e-f23d-4f45-ae02-46d8ebbc0ffc",
   "metadata": {},
   "outputs": [
    {
     "name": "stdout",
     "output_type": "stream",
     "text": [
      "Top carrier: UPS\n",
      "Shipment details: {'Shipment_ID': 105, 'Supplier': 'Beta LLC', 'Region': 'East', 'Weight_kg': 320, 'Delivered': False}\n",
      "Shipment Region: East\n"
     ]
    }
   ],
   "source": [
    "# List of logistics carriers\n",
    "\n",
    "carriers = [\"UPS\", \"FedEx\", \"DHL\", \"Blue Dart\"]\n",
    "print(\"Top carrier:\", carriers[0])  # accessing first item\n",
    "\n",
    "# Dictionary of a shipment\n",
    "shipment = {\n",
    "    \"Shipment_ID\": 105,\n",
    "    \"Supplier\": \"Beta LLC\",\n",
    "    \"Region\": \"East\",\n",
    "    \"Weight_kg\": 320,\n",
    "    \"Delivered\": False\n",
    "}\n",
    "\n",
    "print(\"Shipment details:\", shipment)\n",
    "print(\"Shipment Region:\", shipment[\"Region\"])\n"
   ]
  },
  {
   "cell_type": "markdown",
   "id": "194cf8ae-deae-4fc6-8e75-0a5d7a948f5d",
   "metadata": {},
   "source": [
    "📌 Topic: Lists and Dictionaries  \n",
    "🔍 What I Learned:  \n",
    "- `List`: holds multiple carrier names, accessed by index.  \n",
    "- `Dictionary`: stores shipment info in key-value pairs like a structured row.\n",
    "\n",
    "💡 Why it Matters:  \n",
    "- Helps store and analyze bulk supply chain data — e.g., many suppliers or detailed shipment records.\n"
   ]
  },
  {
   "cell_type": "markdown",
   "id": "41919baa-bf8b-4a39-867e-b9935911aec2",
   "metadata": {},
   "source": [
    "## ✅ Step 1.3: Functions for Logistics & Shipping\n",
    "\n",
    "Functions are blocks of reusable code. We'll create one to calculate shipping costs based on weight and rate.\n"
   ]
  },
  {
   "cell_type": "code",
   "execution_count": 6,
   "id": "b847d338-45e5-4330-9406-2b3137142eac",
   "metadata": {},
   "outputs": [
    {
     "name": "stdout",
     "output_type": "stream",
     "text": [
      "Total Shipping Cost: $ 560.0\n"
     ]
    }
   ],
   "source": [
    "# Define a function to calculate shipping cost\n",
    "\n",
    "def calculate_shipping_cost(weight_kg, rate_per_kg):\n",
    "    return weight_kg * rate_per_kg\n",
    "\n",
    "# Example use\n",
    "cost = calculate_shipping_cost(320, 1.75)\n",
    "print(\"Total Shipping Cost: $\", cost)\n"
   ]
  },
  {
   "cell_type": "markdown",
   "id": "6e5c858f-4abe-4d89-86ac-fca088eeac8d",
   "metadata": {},
   "source": [
    "📌 Topic: Python Functions  \n",
    "🔍 What I Learned:  \n",
    "- A function bundles logic, like cost = weight × rate  \n",
    "- `def` is used to define a function; values are passed as arguments\n",
    "\n",
    "💡 Why it Matters:  \n",
    "- Automates repetitive calculations like cost, taxes, or delay penalties — great for logistics reporting.\n"
   ]
  },
  {
   "cell_type": "markdown",
   "id": "a6a1116b-6158-4c6c-9978-3faea96985d3",
   "metadata": {},
   "source": [
    "## ✅ Step 1.4: Creating a Supply Chain Dataset using Pandas\n",
    "\n",
    "We'll create a simple dataset to simulate shipment data, including cost, region, and delivery notes.\n"
   ]
  },
  {
   "cell_type": "code",
   "execution_count": 9,
   "id": "d38a436f-27c5-4a55-b1a7-1430f3337145",
   "metadata": {},
   "outputs": [
    {
     "data": {
      "text/html": [
       "<div>\n",
       "<style scoped>\n",
       "    .dataframe tbody tr th:only-of-type {\n",
       "        vertical-align: middle;\n",
       "    }\n",
       "\n",
       "    .dataframe tbody tr th {\n",
       "        vertical-align: top;\n",
       "    }\n",
       "\n",
       "    .dataframe thead th {\n",
       "        text-align: right;\n",
       "    }\n",
       "</style>\n",
       "<table border=\"1\" class=\"dataframe\">\n",
       "  <thead>\n",
       "    <tr style=\"text-align: right;\">\n",
       "      <th></th>\n",
       "      <th>Shipment_ID</th>\n",
       "      <th>Supplier</th>\n",
       "      <th>Region</th>\n",
       "      <th>Delivery_Status</th>\n",
       "      <th>Cost</th>\n",
       "      <th>Notes</th>\n",
       "    </tr>\n",
       "  </thead>\n",
       "  <tbody>\n",
       "    <tr>\n",
       "      <th>0</th>\n",
       "      <td>101</td>\n",
       "      <td>Alpha Inc</td>\n",
       "      <td>West</td>\n",
       "      <td>On Time</td>\n",
       "      <td>120.5</td>\n",
       "      <td>Delivered 2 days early</td>\n",
       "    </tr>\n",
       "    <tr>\n",
       "      <th>1</th>\n",
       "      <td>102</td>\n",
       "      <td>Beta LLC</td>\n",
       "      <td>East</td>\n",
       "      <td>Late</td>\n",
       "      <td>140.0</td>\n",
       "      <td>Delayed due to weather</td>\n",
       "    </tr>\n",
       "    <tr>\n",
       "      <th>2</th>\n",
       "      <td>103</td>\n",
       "      <td>Gamma Corp</td>\n",
       "      <td>North</td>\n",
       "      <td>Late</td>\n",
       "      <td>135.3</td>\n",
       "      <td>Held at customs</td>\n",
       "    </tr>\n",
       "    <tr>\n",
       "      <th>3</th>\n",
       "      <td>104</td>\n",
       "      <td>Delta Ltd</td>\n",
       "      <td>South</td>\n",
       "      <td>On Time</td>\n",
       "      <td>110.2</td>\n",
       "      <td>On-time delivery confirmed</td>\n",
       "    </tr>\n",
       "  </tbody>\n",
       "</table>\n",
       "</div>"
      ],
      "text/plain": [
       "   Shipment_ID    Supplier Region Delivery_Status   Cost  \\\n",
       "0          101   Alpha Inc   West         On Time  120.5   \n",
       "1          102    Beta LLC   East            Late  140.0   \n",
       "2          103  Gamma Corp  North            Late  135.3   \n",
       "3          104   Delta Ltd  South         On Time  110.2   \n",
       "\n",
       "                        Notes  \n",
       "0      Delivered 2 days early  \n",
       "1      Delayed due to weather  \n",
       "2             Held at customs  \n",
       "3  On-time delivery confirmed  "
      ]
     },
     "execution_count": 9,
     "metadata": {},
     "output_type": "execute_result"
    }
   ],
   "source": [
    "import pandas as pd\n",
    "\n",
    "# Create sample supply chain data\n",
    "\n",
    "data = {\n",
    "    \"Shipment_ID\": [101, 102, 103, 104],\n",
    "    \"Supplier\": [\"Alpha Inc\", \"Beta LLC\", \"Gamma Corp\", \"Delta Ltd\"],\n",
    "    \"Region\": [\"West\", \"East\", \"North\", \"South\"],\n",
    "    \"Delivery_Status\": [\"On Time\", \"Late\", \"Late\", \"On Time\"],\n",
    "    \"Cost\": [120.5, 140.0, 135.3, 110.2],\n",
    "    \"Notes\": [\n",
    "        \"Delivered 2 days early\",\n",
    "        \"Delayed due to weather\",\n",
    "        \"Held at customs\",\n",
    "        \"On-time delivery confirmed\"\n",
    "    ]\n",
    "}\n",
    "\n",
    "# Create DataFrame\n",
    "df = pd.DataFrame(data)\n",
    "\n",
    "# Show the table\n",
    "df\n"
   ]
  },
  {
   "cell_type": "markdown",
   "id": "40f68f89-8b01-4474-b488-b3aa96efeb6f",
   "metadata": {},
   "source": [
    "📌 Topic: Creating a DataFrame with Pandas  \n",
    "🔍 What I Learned:  \n",
    "- Used `pd.DataFrame()` to turn dictionary data into a table  \n",
    "- Columns represent fields like Supplier, Region, Status\n",
    "\n",
    "💡 Why it Matters:  \n",
    "- Helps simulate and analyze shipment data — we can later classify notes, visualize delays, and calculate total costs.\n"
   ]
  },
  {
   "cell_type": "code",
   "execution_count": 13,
   "id": "9204387a-b517-4316-b5e1-907b0b233fea",
   "metadata": {},
   "outputs": [
    {
     "data": {
      "image/png": "[encoded data removed]",
      "text/plain": [
       "<Figure size 640x480 with 1 Axes>"
      ]
     },
     "metadata": {},
     "output_type": "display_data"
    }
   ],
   "source": [
    "import matplotlib.pyplot as plt\n",
    "\n",
    "delivery_counts = df[\"Delivery_Status\"].value_counts()\n",
    "\n",
    "delivery_counts.plot(kind='bar', color=['green', 'red'])\n",
    "plt.title(\"Delivery Status Overview\")\n",
    "plt.xlabel(\"Status\")\n",
    "plt.ylabel(\"Number of Shipments\")\n",
    "plt.xticks(rotation=0)\n",
    "plt.show()\n"
   ]
  },
  {
   "attachments": {},
   "cell_type": "markdown",
   "id": "cbae7c9b-f4ff-467d-97d0-c4b6eeefacd9",
   "metadata": {},
   "source": [
    "# Count shipments by region\n",
    "region_counts = df[\"Region\"].value_counts()\n",
    "\n",
    "# Plot a pie chart\n",
    "region_counts.plot(kind='pie', autopct='%1.1f%%', figsize=(6,6), shadow=True)\n",
    "plt.title(\"Shipment Distribution by Region\")\n",
    "plt.ylabel(\"\")  # remove y-label\n",
    "plt.show()\n",
    "\n",
    "\n",
    "📌 Topic: Pie Chart – Shipment by Region  \n",
    "🔍 What I Learned:  \n",
    "- Used `value_counts()` to count shipments by region  \n",
    "- `kind='pie'` in Pandas gives a quick visual of data distribution  \n",
    "\n",
    "💡 Why it Matters:  \n",
    "- Helps quickly spot which regions have more volume — useful for resource allocation, staffing, or risk tracking.\n"
   ]
  },
  {
   "cell_type": "code",
   "execution_count": null,
   "id": "dd884c38-ee3e-49ee-90a8-2330760a0e46",
   "metadata": {},
   "outputs": [],
   "source": []
  },
  {
   "cell_type": "code",
   "execution_count": 15,
   "id": "c73012b7-63bd-418f-bfc6-5cbf875a3800",
   "metadata": {},
   "outputs": [
    {
     "data": {
      "image/png": "[encoded data removed]",
      "text/plain": [
       "<Figure size 640x480 with 1 Axes>"
      ]
     },
     "metadata": {},
     "output_type": "display_data"
    }
   ],
   "source": [
    "# Plot shipment cost across entries\n",
    "df[\"Cost\"].plot(kind='line', marker='o', linestyle='--')\n",
    "plt.title(\"Shipment Cost Trend\")\n",
    "plt.xlabel(\"Shipment Index\")\n",
    "plt.ylabel(\"Cost ($)\")\n",
    "plt.grid(True)\n",
    "plt.show()\n"
   ]
  },
  {
   "cell_type": "markdown",
   "id": "97edc890-5b45-4633-8e49-dda7c074853f",
   "metadata": {},
   "source": [
    "📌 Topic: Line Chart – Cost Trend  \n",
    "🔍 What I Learned:  \n",
    "- Line chart shows cost fluctuations across shipment entries  \n",
    "- Added markers and grid for clarity  \n",
    "\n",
    "💡 Why it Matters:  \n",
    "- Useful to monitor cost patterns — outliers may signal delays, fuel surcharges, or incorrect billing.\n"
   ]
  },
  {
   "cell_type": "code",
   "execution_count": null,
   "id": "2c3d00be-7547-4436-8569-5b48b3c6ce31",
   "metadata": {},
   "outputs": [],
   "source": []
  }
 ],
 "metadata": {
  "kernelspec": {
   "display_name": "Python 3 (ipykernel)",
   "language": "python",
   "name": "python3"
  },
  "language_info": {
   "codemirror_mode": {
    "name": "ipython",
    "version": 3
   },
   "file_extension": ".py",
   "mimetype": "text/x-python",
   "name": "python",
   "nbconvert_exporter": "python",
   "pygments_lexer": "ipython3",
   "version": "3.13.5"
  }
 },
 "nbformat": 4,
 "nbformat_minor": 5
}
